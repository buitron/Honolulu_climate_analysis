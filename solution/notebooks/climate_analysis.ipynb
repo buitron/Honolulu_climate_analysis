{
 "cells": [
  {
   "cell_type": "markdown",
   "metadata": {},
   "source": [
    "# Analysis Prep: Reading Data from Relational Database"
   ]
  },
  {
   "cell_type": "code",
   "execution_count": 1,
   "metadata": {
    "collapsed": true
   },
   "outputs": [],
   "source": [
    "from sqlalchemy import create_engine, inspect, func\n",
    "from sqlalchemy.orm import Session\n",
    "from sqlalchemy.ext.automap import automap_base\n",
    "\n",
    "import matplotlib.pyplot as plt"
   ]
  },
  {
   "cell_type": "code",
   "execution_count": 2,
   "metadata": {
    "collapsed": true
   },
   "outputs": [],
   "source": [
    "engine = create_engine('sqlite:///../resources/database/hawaii.sqlite')"
   ]
  },
  {
   "cell_type": "code",
   "execution_count": 3,
   "metadata": {
    "collapsed": true
   },
   "outputs": [],
   "source": [
    "inspector_gadget = inspect(engine)"
   ]
  },
  {
   "cell_type": "code",
   "execution_count": 4,
   "metadata": {},
   "outputs": [
    {
     "data": {
      "text/plain": [
       "['measurement', 'station']"
      ]
     },
     "execution_count": 4,
     "metadata": {},
     "output_type": "execute_result"
    }
   ],
   "source": [
    "inspector_gadget.get_table_names()"
   ]
  },
  {
   "cell_type": "code",
   "execution_count": 5,
   "metadata": {},
   "outputs": [
    {
     "name": "stdout",
     "output_type": "stream",
     "text": [
      "tablename: measurement \n",
      "\n",
      "id INTEGER\n",
      "station VARCHAR(15)\n",
      "date TEXT\n",
      "prcp FLOAT\n",
      "tobs INTEGER\n"
     ]
    }
   ],
   "source": [
    "print(\"tablename: measurement \\n\")\n",
    "for piece in inspector_gadget.get_columns(table_name='measurement'):\n",
    "    print(piece['name'], piece['type'])"
   ]
  },
  {
   "cell_type": "code",
   "execution_count": 6,
   "metadata": {},
   "outputs": [
    {
     "name": "stdout",
     "output_type": "stream",
     "text": [
      "tablename: station \n",
      "\n",
      "id INTEGER\n",
      "station VARCHAR(15)\n",
      "name VARCHAR(75)\n",
      "latitude FLOAT\n",
      "longitude FLOAT\n",
      "elevation FLOAT\n"
     ]
    }
   ],
   "source": [
    "print(\"tablename: station \\n\")\n",
    "for piece in inspector_gadget.get_columns(table_name='station'):\n",
    "    print(piece['name'], piece['type'])"
   ]
  },
  {
   "cell_type": "code",
   "execution_count": 7,
   "metadata": {
    "collapsed": true
   },
   "outputs": [],
   "source": [
    "Base = automap_base()"
   ]
  },
  {
   "cell_type": "code",
   "execution_count": 8,
   "metadata": {
    "collapsed": true
   },
   "outputs": [],
   "source": [
    "Base.prepare(engine=engine, reflect=True)"
   ]
  },
  {
   "cell_type": "code",
   "execution_count": 9,
   "metadata": {
    "collapsed": true
   },
   "outputs": [],
   "source": [
    "Measurement = Base.classes.measurement\n",
    "Station = Base.classes.station"
   ]
  },
  {
   "cell_type": "code",
   "execution_count": 10,
   "metadata": {
    "collapsed": true
   },
   "outputs": [],
   "source": [
    "session = Session(bind=engine)"
   ]
  },
  {
   "cell_type": "markdown",
   "metadata": {},
   "source": [
    "# Precipitation Analysis"
   ]
  },
  {
   "cell_type": "code",
   "execution_count": 11,
   "metadata": {
    "collapsed": true
   },
   "outputs": [],
   "source": [
    "import pandas as pd\n",
    "import numpy as np"
   ]
  },
  {
   "cell_type": "code",
   "execution_count": 12,
   "metadata": {
    "collapsed": true
   },
   "outputs": [],
   "source": [
    "last_12_mo = session.query(Measurement.date, Measurement.prcp).filter(Measurement.date >= '2016-08-01', Measurement.date <= '2017-08-31').all()"
   ]
  },
  {
   "cell_type": "code",
   "execution_count": 13,
   "metadata": {
    "collapsed": true
   },
   "outputs": [],
   "source": [
    "prec_df = pd.DataFrame(last_12_mo)\n",
    "prec_df.date = pd.to_datetime(prec_df.date, format='%Y-%m-%d').dt.date\n",
    "prec_df.set_index('date', inplace=True)"
   ]
  },
  {
   "cell_type": "code",
   "execution_count": 14,
   "metadata": {
    "collapsed": true
   },
   "outputs": [],
   "source": [
    "prec_df.rename(columns={'prcp':'precipitation'}, inplace=True)"
   ]
  },
  {
   "cell_type": "code",
   "execution_count": 15,
   "metadata": {},
   "outputs": [
    {
     "data": {
      "text/html": [
       "<div>\n",
       "<style>\n",
       "    .dataframe thead tr:only-child th {\n",
       "        text-align: right;\n",
       "    }\n",
       "\n",
       "    .dataframe thead th {\n",
       "        text-align: left;\n",
       "    }\n",
       "\n",
       "    .dataframe tbody tr th {\n",
       "        vertical-align: top;\n",
       "    }\n",
       "</style>\n",
       "<table border=\"1\" class=\"dataframe\">\n",
       "  <thead>\n",
       "    <tr style=\"text-align: right;\">\n",
       "      <th></th>\n",
       "      <th>precipitation</th>\n",
       "    </tr>\n",
       "    <tr>\n",
       "      <th>date</th>\n",
       "      <th></th>\n",
       "    </tr>\n",
       "  </thead>\n",
       "  <tbody>\n",
       "    <tr>\n",
       "      <th>2016-08-01</th>\n",
       "      <td>0.08</td>\n",
       "    </tr>\n",
       "    <tr>\n",
       "      <th>2016-08-02</th>\n",
       "      <td>0.05</td>\n",
       "    </tr>\n",
       "    <tr>\n",
       "      <th>2016-08-03</th>\n",
       "      <td>0.00</td>\n",
       "    </tr>\n",
       "    <tr>\n",
       "      <th>2016-08-04</th>\n",
       "      <td>0.04</td>\n",
       "    </tr>\n",
       "    <tr>\n",
       "      <th>2016-08-05</th>\n",
       "      <td>0.01</td>\n",
       "    </tr>\n",
       "  </tbody>\n",
       "</table>\n",
       "</div>"
      ],
      "text/plain": [
       "            precipitation\n",
       "date                     \n",
       "2016-08-01           0.08\n",
       "2016-08-02           0.05\n",
       "2016-08-03           0.00\n",
       "2016-08-04           0.04\n",
       "2016-08-05           0.01"
      ]
     },
     "execution_count": 15,
     "metadata": {},
     "output_type": "execute_result"
    }
   ],
   "source": [
    "prec_df.head()"
   ]
  },
  {
   "cell_type": "markdown",
   "metadata": {},
   "source": [
    "## HELP!"
   ]
  },
  {
   "cell_type": "markdown",
   "metadata": {},
   "source": [
    "#### bar plot using the dataframe with one index, in date date-type %Y-%m-%d,  and one column of values"
   ]
  },
  {
   "cell_type": "code",
   "execution_count": 16,
   "metadata": {},
   "outputs": [
    {
     "name": "stdout",
     "output_type": "stream",
     "text": [
      "Max Precipitation: 6.7, Min Precipitation: 0.0\n"
     ]
    }
   ],
   "source": [
    "print(f\"Max Precipitation: {prec_df.precipitation.max()}, Min Precipitation: {prec_df.precipitation.min()}\")"
   ]
  },
  {
   "cell_type": "code",
   "execution_count": 17,
   "metadata": {},
   "outputs": [
    {
     "data": {
      "text/plain": [
       "2372"
      ]
     },
     "execution_count": 17,
     "metadata": {},
     "output_type": "execute_result"
    }
   ],
   "source": [
    "len(prec_df)"
   ]
  },
  {
   "cell_type": "code",
   "execution_count": 18,
   "metadata": {},
   "outputs": [
    {
     "data": {
      "image/png": "[encoded data removed]",
      "text/plain": [
       "<matplotlib.figure.Figure at 0x1063a7d30>"
      ]
     },
     "metadata": {},
     "output_type": "display_data"
    }
   ],
   "source": [
    "prec_df[:40].plot.bar(figsize=(15,4), rot=30, color='teal')\n",
    "plt.legend(loc=2)\n",
    "plt.show()"
   ]
  },
  {
   "cell_type": "code",
   "execution_count": 19,
   "metadata": {
    "collapsed": true
   },
   "outputs": [],
   "source": [
    "# import datetime"
   ]
  },
  {
   "cell_type": "code",
   "execution_count": 20,
   "metadata": {
    "collapsed": true
   },
   "outputs": [],
   "source": [
    "# base = datetime.datetime(2016, 8, 1)\n",
    "# arr = np.array([base + datetime.timedelta(months=i) for i in xrange(12)])\n",
    "# arr"
   ]
  },
  {
   "cell_type": "code",
   "execution_count": 21,
   "metadata": {
    "collapsed": true
   },
   "outputs": [],
   "source": [
    "# dates = np.array(['2016-08-01','2016-09-01','2016-10-01','2016-11-01','2016-12-01','2017-01-01','2017-02-01','2017-03-01',\n",
    "#          '2017-04-01','2017-05-01','2017-06-01','2017-07-01','2017-08-01'], dtype='datetime64')"
   ]
  },
  {
   "cell_type": "markdown",
   "metadata": {},
   "source": [
    "#### same bar plot, removing all the text in the xaxis"
   ]
  },
  {
   "cell_type": "code",
   "execution_count": 22,
   "metadata": {
    "collapsed": true
   },
   "outputs": [],
   "source": [
    "# df.plot.bar(yticks=np.arange(0,5), ylim=((0,4)))\n",
    "# ax1 = plt.axes()\n",
    "# x_axis = ax1.axes.get_xaxis()\n",
    "# x_axis.set_visible(False)\n",
    "\n",
    "# plt.show()\n"
   ]
  },
  {
   "cell_type": "markdown",
   "metadata": {},
   "source": [
    "#### plt monthly"
   ]
  },
  {
   "cell_type": "code",
   "execution_count": 23,
   "metadata": {
    "collapsed": true
   },
   "outputs": [],
   "source": [
    "# import datetime\n",
    "# from dateutil.rrule import rrule, MONTHLY"
   ]
  },
  {
   "cell_type": "code",
   "execution_count": 24,
   "metadata": {
    "collapsed": true
   },
   "outputs": [],
   "source": [
    "# d1 = datetime.date(2016,8,1)\n",
    "# d2 = datetime.date(2017,8,31)\n",
    "\n",
    "# dates = [dt.strftime('%Y-%m-%d') for dt in rrule(MONTHLY, dtstart=d1, until=d2)]\n",
    "# dates"
   ]
  },
  {
   "cell_type": "code",
   "execution_count": 25,
   "metadata": {
    "collapsed": true
   },
   "outputs": [],
   "source": [
    "# plt.close('all')"
   ]
  },
  {
   "cell_type": "markdown",
   "metadata": {},
   "source": [
    "# Station Analysis"
   ]
  },
  {
   "cell_type": "code",
   "execution_count": 26,
   "metadata": {},
   "outputs": [
    {
     "name": "stdout",
     "output_type": "stream",
     "text": [
      "The number of weather stations on Honolulu Hawaii are 9.\n"
     ]
    }
   ],
   "source": [
    "station_count = session.query(Station).count()\n",
    "print(f\"The number of weather stations on Honolulu Hawaii are {station_count}.\")"
   ]
  },
  {
   "cell_type": "code",
   "execution_count": 27,
   "metadata": {},
   "outputs": [
    {
     "name": "stdout",
     "output_type": "stream",
     "text": [
      "Station: USC00519281, Number of Observations: 2772\n",
      "Station: USC00519397, Number of Observations: 2724\n",
      "Station: USC00513117, Number of Observations: 2709\n",
      "Station: USC00519523, Number of Observations: 2669\n",
      "Station: USC00516128, Number of Observations: 2612\n",
      "Station: USC00514830, Number of Observations: 2202\n",
      "Station: USC00511918, Number of Observations: 1979\n",
      "Station: USC00517948, Number of Observations: 1372\n",
      "Station: USC00518838, Number of Observations: 511\n",
      "\n",
      "-------------------------------------------------------\n",
      "\n",
      "The weather station with the highest amount of observations is USC00519281 with 2772 observations.\n"
     ]
    }
   ],
   "source": [
    "station_observation_count = session.query(Measurement.station, func.count(Measurement.station)).group_by(Measurement.station).order_by(-func.count(Measurement.station)).all()\n",
    "for station, count in station_observation_count:\n",
    "    print(f\"Station: {station}, Number of Observations: {count}\")\n",
    "\n",
    "print(\"\\n\" + \"-\"*55 + \"\\n\")\n",
    "print(f\"The weather station with the highest amount of observations is {station_observation_count[0][0]} with {station_observation_count[0][1]} observations.\")"
   ]
  },
  {
   "cell_type": "markdown",
   "metadata": {},
   "source": [
    "#### Last 12 months of temperature observation data"
   ]
  },
  {
   "cell_type": "code",
   "execution_count": 28,
   "metadata": {
    "collapsed": true
   },
   "outputs": [],
   "source": [
    "last_12_mo = session.query(Measurement.station, Measurement.tobs, Measurement.date).filter(Measurement.date >= '2016-08-01', Measurement.date <= '2017-08-31').all()"
   ]
  },
  {
   "cell_type": "code",
   "execution_count": 29,
   "metadata": {
    "collapsed": true
   },
   "outputs": [],
   "source": [
    "largest_count = pd.DataFrame(last_12_mo)[['station','tobs']].groupby('station').count().sort_values('tobs', ascending=False)[:1].index.item()"
   ]
  },
  {
   "cell_type": "code",
   "execution_count": 30,
   "metadata": {
    "collapsed": true
   },
   "outputs": [],
   "source": [
    "largest_station = session.query(Measurement.tobs, Measurement.date).filter(Measurement.date >= '2016-08-01', Measurement.date <= '2017-08-31', Measurement.station == largest_count).all()"
   ]
  },
  {
   "cell_type": "code",
   "execution_count": 31,
   "metadata": {
    "collapsed": true
   },
   "outputs": [],
   "source": [
    "df = pd.DataFrame(largest_station)"
   ]
  },
  {
   "cell_type": "code",
   "execution_count": 32,
   "metadata": {},
   "outputs": [
    {
     "data": {
      "image/png": "[encoded data removed]",
      "text/plain": [
       "<matplotlib.figure.Figure at 0x1091d1b00>"
      ]
     },
     "metadata": {},
     "output_type": "display_data"
    }
   ],
   "source": [
    "df.plot.hist(bins=12, zorder=2, title=largest_count, grid=True, figsize=(10,6), fontsize=12, color='teal')\n",
    "plt.ylabel('Frequency', size=14)\n",
    "plt.legend(loc=1, prop={'size': 14})\n",
    "plt.show()"
   ]
  },
  {
   "cell_type": "markdown",
   "metadata": {},
   "source": [
    "# Temperature Analysis"
   ]
  },
  {
   "cell_type": "code",
   "execution_count": 33,
   "metadata": {
    "collapsed": true
   },
   "outputs": [],
   "source": [
    "def calc_temps(start_date, end_date):\n",
    "    results = session.query(Measurement.tobs).filter(Measurement.date >= start_date, Measurement.date <= end_date).all()\n",
    "    results_ra = np.ravel(results)\n",
    "    \n",
    "    minimum = np.min(results_ra)\n",
    "    average = np.average(results_ra)\n",
    "    maximum = np.max(results_ra)\n",
    "    return minimum, average, maximum"
   ]
  },
  {
   "cell_type": "code",
   "execution_count": 34,
   "metadata": {
    "collapsed": true
   },
   "outputs": [],
   "source": [
    "last_year_min, last_year_avg, last_year_max = calc_temps('2017-01-01', '2018-01-01')"
   ]
  },
  {
   "cell_type": "code",
   "execution_count": 35,
   "metadata": {},
   "outputs": [
    {
     "data": {
      "text/plain": [
       "58"
      ]
     },
     "execution_count": 35,
     "metadata": {},
     "output_type": "execute_result"
    }
   ],
   "source": [
    "last_year_min"
   ]
  },
  {
   "cell_type": "code",
   "execution_count": 36,
   "metadata": {},
   "outputs": [
    {
     "data": {
      "text/plain": [
       "87"
      ]
     },
     "execution_count": 36,
     "metadata": {},
     "output_type": "execute_result"
    }
   ],
   "source": [
    "last_year_max"
   ]
  },
  {
   "cell_type": "code",
   "execution_count": 37,
   "metadata": {},
   "outputs": [
    {
     "data": {
      "image/png": "[encoded data removed]",
      "text/plain": [
       "<matplotlib.figure.Figure at 0x1091ddac8>"
      ]
     },
     "metadata": {},
     "output_type": "display_data"
    }
   ],
   "source": [
    "fig, ax = plt.subplots(figsize=(2,6))\n",
    "ax.bar(1, last_year_avg, yerr=[(last_year_min-last_year_avg, last_year_max-last_year_avg)], color='teal')\n",
    "x_axis = ax.axes.get_xaxis()\n",
    "x_axis.set_visible(False)\n",
    "ax.set_title('Trip Avg Temp')\n",
    "ax.set_ylabel('Temp(F)')\n",
    "plt.grid()\n",
    "plt.show()"
   ]
  },
  {
   "cell_type": "markdown",
   "metadata": {},
   "source": [
    "# Vacation Rain and Temperature Analysis"
   ]
  },
  {
   "cell_type": "code",
   "execution_count": 38,
   "metadata": {},
   "outputs": [
    {
     "name": "stdout",
     "output_type": "stream",
     "text": [
      "Total Rainfall Last Year\n",
      "Station: USC00513117, Total Rainfall: 54.39000000000004.\n",
      "Station: USC00514830, Total Rainfall: 35.379999999999995.\n",
      "Station: USC00516128, Total Rainfall: 165.75999999999996.\n",
      "Station: USC00517948, Total Rainfall: 4.77.\n",
      "Station: USC00519281, Total Rainfall: 80.06000000000006.\n",
      "Station: USC00519397, Total Rainfall: 17.23999999999999.\n",
      "Station: USC00519523, Total Rainfall: 40.14.\n"
     ]
    }
   ],
   "source": [
    "# Calcualte the rainfall per weather station using the previous year's matching dates.\n",
    "rainfall_ly = session.query(Measurement.station, func.sum(Measurement.prcp)).filter(Measurement.date >= '2016-08-01', Measurement.date <= '2017-08-31').group_by(Measurement.station).all()\n",
    "\n",
    "print(\"Total Rainfall Last Year\")\n",
    "for station, rainfall in rainfall_ly:\n",
    "    print(f\"Station: {station}, Total Rainfall: {rainfall}.\")"
   ]
  },
  {
   "cell_type": "code",
   "execution_count": 39,
   "metadata": {
    "collapsed": true
   },
   "outputs": [],
   "source": [
    "def daily_norms(date):\n",
    "    diced = date.split(\"-\")\n",
    "    if int(diced[1]) < 10 and len(diced[1]) < 2:\n",
    "        date2 = f\"0{diced[1]}\"\n",
    "        date = f\"{diced[0]}-{date2}\"\n",
    "    \n",
    "    results = session.query(Measurement.tobs).filter(Measurement.date.like(f\"%{date}\")).all()\n",
    "    results_ra = np.ravel(results)\n",
    "    \n",
    "    minimum = np.min(results_ra)\n",
    "    average = np.average(results_ra)\n",
    "    maximum = np.max(results_ra)\n",
    "    return minimum, average, maximum"
   ]
  },
  {
   "cell_type": "code",
   "execution_count": 40,
   "metadata": {
    "collapsed": true
   },
   "outputs": [],
   "source": [
    "travel_dates = [f\"2018-06-{i+1}\" for i in range(7)]"
   ]
  },
  {
   "cell_type": "code",
   "execution_count": 41,
   "metadata": {
    "collapsed": true
   },
   "outputs": [],
   "source": [
    "norms = []\n",
    "for date in travel_dates:\n",
    "    minimum, average, maximum = daily_norms(date[5:]) \n",
    "    norms.append((date, minimum, average, maximum))"
   ]
  },
  {
   "cell_type": "code",
   "execution_count": 42,
   "metadata": {
    "collapsed": true
   },
   "outputs": [],
   "source": [
    "vacation_df = pd.DataFrame(norms, columns=['date','tmin','tavg','tmax']).set_index('date')"
   ]
  },
  {
   "cell_type": "code",
   "execution_count": 43,
   "metadata": {},
   "outputs": [
    {
     "data": {
      "image/png": "[encoded data removed]",
      "text/plain": [
       "<matplotlib.figure.Figure at 0x109128710>"
      ]
     },
     "metadata": {},
     "output_type": "display_data"
    }
   ],
   "source": [
    "pal = [\"#1127a0\", \"#48b1c9\", \"#c5e5cc\"]\n",
    "\n",
    "vacation_df.plot(kind='area', color=pal, stacked=False, yticks=np.linspace(0,vacation_df.tmax.max()+5,10, dtype=int), rot=30, figsize=(10,6))\n",
    "plt.title('Vacation Week Temp Prediction', size=14)\n",
    "plt.ylabel('Temp(F)', size=14)\n",
    "plt.legend(loc=3, prop={'size': 12})\n",
    "plt.show()"
   ]
  },
  {
   "cell_type": "code",
   "execution_count": 44,
   "metadata": {
    "collapsed": true
   },
   "outputs": [],
   "source": [
    "plt.close('all')"
   ]
  }
 ],
 "metadata": {
  "kernelspec": {
   "display_name": "Python 3",
   "language": "python",
   "name": "python3"
  },
  "language_info": {
   "codemirror_mode": {
    "name": "ipython",
    "version": 3
   },
   "file_extension": ".py",
   "mimetype": "text/x-python",
   "name": "python",
   "nbconvert_exporter": "python",
   "pygments_lexer": "ipython3",
   "version": "3.6.3"
  }
 },
 "nbformat": 4,
 "nbformat_minor": 2
}
